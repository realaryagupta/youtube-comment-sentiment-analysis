{
 "cells": [
  {
   "cell_type": "code",
   "execution_count": 1,
   "id": "bdff1a4b-0777-4afc-9188-a81a9c55fe5a",
   "metadata": {},
   "outputs": [],
   "source": [
    "import numpy as np\n",
    "import pandas as pd\n",
    "import matplotlib.pyplot as plt\n",
    "import seaborn as sns\n",
    "import mlflow\n",
    "import mlflow.sklearn\n",
    "from sklearn.ensemble import RandomForestClassifier\n",
    "from sklearn.model_selection import train_test_split, StratifiedKFold, cross_val_predict\n",
    "from sklearn.feature_extraction.text import CountVectorizer, TfidfVectorizer\n",
    "from sklearn.metrics import accuracy_score, classification_report, confusion_matrix\n",
    "from scipy.sparse import csr_matrix\n",
    "from scipy.sparse import hstack"
   ]
  },
  {
   "cell_type": "code",
   "execution_count": 8,
   "id": "99c46c4a-1a38-44d8-a334-97419a35a94f",
   "metadata": {},
   "outputs": [],
   "source": [
    "path = \"/Users/aryagupta/Desktop/yt-sentiment-analysis/youtube-comments-sentiment-analysis/data/processed/preprocessed_v1.csv\"\n",
    "\n",
    "data = pd.read_csv(path)"
   ]
  },
  {
   "cell_type": "code",
   "execution_count": 9,
   "id": "487829f0-8ca2-4554-854e-d76d2d142b3b",
   "metadata": {},
   "outputs": [],
   "source": [
    "mlflow.set_tracking_uri(\"http://127.0.0.1:5000\")"
   ]
  },
  {
   "cell_type": "code",
   "execution_count": 10,
   "id": "dae28da9-435a-4bf2-a725-99fde25d869d",
   "metadata": {},
   "outputs": [
    {
     "name": "stderr",
     "output_type": "stream",
     "text": [
      "2025/05/08 10:15:39 INFO mlflow.tracking.fluent: Experiment with name 'Experiment 2.1 BoW vs TF-IDF' does not exist. Creating a new experiment.\n"
     ]
    },
    {
     "data": {
      "text/plain": [
       "<Experiment: artifact_location='mlflow-artifacts:/293310681361475325', creation_time=1746679539502, experiment_id='293310681361475325', last_update_time=1746679539502, lifecycle_stage='active', name='Experiment 2.1 BoW vs TF-IDF', tags={}>"
      ]
     },
     "execution_count": 10,
     "metadata": {},
     "output_type": "execute_result"
    }
   ],
   "source": [
    "mlflow.set_experiment(\"Experiment 2.1 BoW vs TF-IDF\")"
   ]
  },
  {
   "cell_type": "code",
   "execution_count": 11,
   "id": "1763a179-7d24-4b9b-9aa2-0e27e751d53f",
   "metadata": {},
   "outputs": [
    {
     "data": {
      "text/plain": [
       "(36793, 2)"
      ]
     },
     "execution_count": 11,
     "metadata": {},
     "output_type": "execute_result"
    }
   ],
   "source": [
    "data.shape"
   ]
  },
  {
   "cell_type": "code",
   "execution_count": 12,
   "id": "35c31bf7-a134-4c46-85cf-9785d0d478b0",
   "metadata": {},
   "outputs": [],
   "source": [
    "def run_experiment(vectorizer_type, ngram_range, vectorizer_max_feature, vectorizer_name):\n",
    "    X_raw_train, X_raw_test, y_train, y_test = train_test_split(\n",
    "        data['clean_comment'], data['category'], test_size=0.2, random_state=1, stratify=data['category']\n",
    "    )\n",
    "\n",
    "    if vectorizer_type == \"BoW\":\n",
    "        vectorizer = CountVectorizer(ngram_range=ngram_range, max_features=vectorizer_max_feature)\n",
    "    else:\n",
    "        vectorizer = TfidfVectorizer(ngram_range=ngram_range, max_features=vectorizer_max_feature)\n",
    "\n",
    "    X_train = vectorizer.fit_transform(X_raw_train)\n",
    "    X_test = vectorizer.transform(X_raw_test)\n",
    "\n",
    "    with mlflow.start_run() as run:\n",
    "        mlflow.set_tag(\"mlflow.runName\", f\"{vectorizer_name}_{ngram_range}_RandomForest\")\n",
    "        mlflow.set_tag(\"experiment_type\", \"feature_engineering\")\n",
    "        mlflow.set_tag(\"model_type\", \"RandomForestClassifier\")\n",
    "\n",
    "        mlflow.set_tag(\n",
    "            \"description\",\n",
    "            f\"RandomForest with {vectorizer_name}, ngram_range={ngram_range}, max_features={vectorizer_max_feature}\"\n",
    "        )\n",
    "\n",
    "        mlflow.log_param(\"vectorizer_type\", vectorizer_type)\n",
    "        mlflow.log_param(\"ngram_range\", ngram_range)\n",
    "        mlflow.log_param(\"vectorizer_max_feature\", vectorizer_max_feature)\n",
    "\n",
    "        n_estimators = 200\n",
    "        max_depth = 15\n",
    "\n",
    "        mlflow.log_param(\"n_estimators\", n_estimators)\n",
    "        mlflow.log_param(\"max_depth\", max_depth)\n",
    "\n",
    "        model = RandomForestClassifier(n_estimators=n_estimators, max_depth=max_depth, random_state=1)\n",
    "        model.fit(X_train, y_train)\n",
    "\n",
    "        y_pred = model.predict(X_test)\n",
    "\n",
    "        accuracy = accuracy_score(y_test, y_pred)\n",
    "        mlflow.log_metric(\"accuracy_score\", accuracy)\n",
    "\n",
    "        classification_rep = classification_report(y_test, y_pred, output_dict=True)\n",
    "        for label, metrics in classification_rep.items():\n",
    "            if isinstance(metrics, dict):\n",
    "                for metric, value in metrics.items():\n",
    "                    mlflow.log_metric(f\"{label}_{metric}\", value)\n",
    "\n",
    "        conf_matrix = confusion_matrix(y_test, y_pred)\n",
    "        plt.figure(figsize=(8, 6))\n",
    "        sns.heatmap(conf_matrix, annot=True, fmt='d', cmap='Blues')\n",
    "        plt.xlabel(\"Predicted\")\n",
    "        plt.ylabel(\"Actual\")\n",
    "        plt.title(f\"Confusion Matrix: {vectorizer_name}, {ngram_range}\")\n",
    "        plot_path = \"/Users/aryagupta/Desktop/yt-sentiment-analysis/youtube-comments-sentiment-analysis/plots/confusion_matrix.png\"\n",
    "        plt.savefig(plot_path)\n",
    "        mlflow.log_artifact(plot_path)\n",
    "        plt.close()\n",
    "\n",
    "        mlflow.sklearn.log_model(model, f\"random_forest_model_{vectorizer_name}_{ngram_range}\")"
   ]
  },
  {
   "cell_type": "code",
   "execution_count": 13,
   "id": "12bf75df-6f94-4bab-a3d1-2547947f13ea",
   "metadata": {},
   "outputs": [
    {
     "name": "stderr",
     "output_type": "stream",
     "text": [
      "\u001b[31m2025/05/08 10:16:33 WARNING mlflow.models.model: Model logged without a signature and input example. Please set `input_example` parameter when logging the model to auto infer the model signature.\u001b[0m\n"
     ]
    },
    {
     "name": "stdout",
     "output_type": "stream",
     "text": [
      "🏃 View run BoW_(1, 1)_RandomForest at: http://127.0.0.1:5000/#/experiments/293310681361475325/runs/fd176dc6af2342158fafb9aeda5e23d4\n",
      "🧪 View experiment at: http://127.0.0.1:5000/#/experiments/293310681361475325\n"
     ]
    },
    {
     "name": "stderr",
     "output_type": "stream",
     "text": [
      "\u001b[31m2025/05/08 10:16:39 WARNING mlflow.models.model: Model logged without a signature and input example. Please set `input_example` parameter when logging the model to auto infer the model signature.\u001b[0m\n"
     ]
    },
    {
     "name": "stdout",
     "output_type": "stream",
     "text": [
      "🏃 View run TF-IDF_(1, 1)_RandomForest at: http://127.0.0.1:5000/#/experiments/293310681361475325/runs/3f4efdea01e742b8ac387c8e38c311b2\n",
      "🧪 View experiment at: http://127.0.0.1:5000/#/experiments/293310681361475325\n"
     ]
    },
    {
     "name": "stderr",
     "output_type": "stream",
     "text": [
      "\u001b[31m2025/05/08 10:16:45 WARNING mlflow.models.model: Model logged without a signature and input example. Please set `input_example` parameter when logging the model to auto infer the model signature.\u001b[0m\n"
     ]
    },
    {
     "name": "stdout",
     "output_type": "stream",
     "text": [
      "🏃 View run BoW_(1, 2)_RandomForest at: http://127.0.0.1:5000/#/experiments/293310681361475325/runs/feac3050ac9a40838ece8283db6f3a13\n",
      "🧪 View experiment at: http://127.0.0.1:5000/#/experiments/293310681361475325\n"
     ]
    },
    {
     "name": "stderr",
     "output_type": "stream",
     "text": [
      "\u001b[31m2025/05/08 10:16:52 WARNING mlflow.models.model: Model logged without a signature and input example. Please set `input_example` parameter when logging the model to auto infer the model signature.\u001b[0m\n"
     ]
    },
    {
     "name": "stdout",
     "output_type": "stream",
     "text": [
      "🏃 View run TF-IDF_(1, 2)_RandomForest at: http://127.0.0.1:5000/#/experiments/293310681361475325/runs/bc077db2efe34d859c26fbdb10331513\n",
      "🧪 View experiment at: http://127.0.0.1:5000/#/experiments/293310681361475325\n"
     ]
    },
    {
     "name": "stderr",
     "output_type": "stream",
     "text": [
      "\u001b[31m2025/05/08 10:17:00 WARNING mlflow.models.model: Model logged without a signature and input example. Please set `input_example` parameter when logging the model to auto infer the model signature.\u001b[0m\n"
     ]
    },
    {
     "name": "stdout",
     "output_type": "stream",
     "text": [
      "🏃 View run BoW_(1, 3)_RandomForest at: http://127.0.0.1:5000/#/experiments/293310681361475325/runs/fa910211fec84789b7b4a8ec6ecac6c3\n",
      "🧪 View experiment at: http://127.0.0.1:5000/#/experiments/293310681361475325\n"
     ]
    },
    {
     "name": "stderr",
     "output_type": "stream",
     "text": [
      "\u001b[31m2025/05/08 10:17:08 WARNING mlflow.models.model: Model logged without a signature and input example. Please set `input_example` parameter when logging the model to auto infer the model signature.\u001b[0m\n"
     ]
    },
    {
     "name": "stdout",
     "output_type": "stream",
     "text": [
      "🏃 View run TF-IDF_(1, 3)_RandomForest at: http://127.0.0.1:5000/#/experiments/293310681361475325/runs/5cd356408723413eb13737e722f34583\n",
      "🧪 View experiment at: http://127.0.0.1:5000/#/experiments/293310681361475325\n"
     ]
    }
   ],
   "source": [
    "ngram_ranges = [(1, 1), (1, 2), (1, 3)]\n",
    "max_features = 5000\n",
    "\n",
    "for ngram_range in ngram_ranges:\n",
    "    run_experiment(\"BoW\", ngram_range, max_features, vectorizer_name=\"BoW\")\n",
    "    run_experiment(\"TF-IDF\", ngram_range, max_features, vectorizer_name=\"TF-IDF\")"
   ]
  },
  {
   "cell_type": "markdown",
   "id": "d44c9dcf-1d8a-4469-a0e9-169dfacb98cb",
   "metadata": {},
   "source": [
    "![MLflow Experiment Screenshot](https://raw.githubusercontent.com/realaryagupta/youtube-comment-sentiment-analysis/master/plots/screenshots/Exp-2-mlflow.png)"
   ]
  },
  {
   "cell_type": "markdown",
   "id": "164e70d3-d770-4409-b01f-2754bbcb6857",
   "metadata": {},
   "source": [
    "On careful observing we select TF-IDF with Trigram setting as this is the best we can get"
   ]
  }
 ],
 "metadata": {
  "kernelspec": {
   "display_name": "Python 3 (ipykernel)",
   "language": "python",
   "name": "python3"
  },
  "language_info": {
   "codemirror_mode": {
    "name": "ipython",
    "version": 3
   },
   "file_extension": ".py",
   "mimetype": "text/x-python",
   "name": "python",
   "nbconvert_exporter": "python",
   "pygments_lexer": "ipython3",
   "version": "3.13.1"
  }
 },
 "nbformat": 4,
 "nbformat_minor": 5
}
